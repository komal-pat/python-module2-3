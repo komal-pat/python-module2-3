{
 "cells": [
  {
   "cell_type": "code",
   "execution_count": 26,
   "id": "8fe35aca-20e1-4c8f-8e18-794cdeeb55e7",
   "metadata": {},
   "outputs": [],
   "source": [
    "def fac(n):\n",
    "    if n==0:\n",
    "        return 1\n",
    "    else:\n",
    "        return n*fac(n-1)"
   ]
  },
  {
   "cell_type": "code",
   "execution_count": 27,
   "id": "23190e19-15e9-402c-a103-4517c50ddb0d",
   "metadata": {},
   "outputs": [
    {
     "name": "stdin",
     "output_type": "stream",
     "text": [
      "enter a number 4\n"
     ]
    },
    {
     "name": "stdout",
     "output_type": "stream",
     "text": [
      "24\n"
     ]
    }
   ],
   "source": [
    "n=int(input('enter a number'))\n",
    "print(fac(n))"
   ]
  },
  {
   "cell_type": "code",
   "execution_count": 53,
   "id": "7657ac5e-0736-40be-8bde-90d9c954c412",
   "metadata": {},
   "outputs": [],
   "source": [
    "def prime(n):\n",
    "    if a<=1:\n",
    "        return false\n",
    "    for i in range (2,int(n**0.5)+1):\n",
    "        if n % i == 0:\n",
    "            return False\n",
    "\n",
    "    return True   \n",
    "            \n",
    "\n"
   ]
  },
  {
   "cell_type": "code",
   "execution_count": 54,
   "id": "671eaad7-0678-4465-8443-835b7d552a98",
   "metadata": {},
   "outputs": [
    {
     "data": {
      "text/plain": [
       "True"
      ]
     },
     "execution_count": 54,
     "metadata": {},
     "output_type": "execute_result"
    }
   ],
   "source": [
    "prime(7)"
   ]
  },
  {
   "cell_type": "code",
   "execution_count": 56,
   "id": "686a45f3-cf02-4eb5-a624-206feca4e149",
   "metadata": {},
   "outputs": [
    {
     "data": {
      "text/plain": [
       "False"
      ]
     },
     "execution_count": 56,
     "metadata": {},
     "output_type": "execute_result"
    }
   ],
   "source": [
    "prime(14)"
   ]
  },
  {
   "cell_type": "code",
   "execution_count": 57,
   "id": "23a2bdfb-fe1e-4cb0-b20d-601fd773bbd7",
   "metadata": {},
   "outputs": [
    {
     "name": "stdout",
     "output_type": "stream",
     "text": [
      "\n",
      "@\n",
      "@@\n",
      "@@@\n",
      "@@@@\n",
      "@@@@@\n"
     ]
    }
   ],
   "source": [
    "for i in range (6):\n",
    "    print(\"@\"*i)"
   ]
  },
  {
   "cell_type": "code",
   "execution_count": null,
   "id": "6e35c63c-29f6-4958-82b1-cb6f98ed8656",
   "metadata": {},
   "outputs": [],
   "source": []
  }
 ],
 "metadata": {
  "kernelspec": {
   "display_name": "Python 3 (ipykernel)",
   "language": "python",
   "name": "python3"
  },
  "language_info": {
   "codemirror_mode": {
    "name": "ipython",
    "version": 3
   },
   "file_extension": ".py",
   "mimetype": "text/x-python",
   "name": "python",
   "nbconvert_exporter": "python",
   "pygments_lexer": "ipython3",
   "version": "3.13.1"
  }
 },
 "nbformat": 4,
 "nbformat_minor": 5
}
